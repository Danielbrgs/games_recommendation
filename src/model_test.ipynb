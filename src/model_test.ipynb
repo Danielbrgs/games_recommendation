{
 "cells": [
  {
   "cell_type": "code",
   "execution_count": 3,
   "metadata": {},
   "outputs": [],
   "source": [
    "import pandas as pd\n",
    "from sklearn.metrics.pairwise import cosine_similarity\n",
    "import joblib"
   ]
  },
  {
   "cell_type": "code",
   "execution_count": 4,
   "metadata": {},
   "outputs": [],
   "source": [
    "class RecommenderSystem:\n",
    "    def __init__(self, file_path:str):\n",
    "        self.df = self.get_steam_data(file_path)\n",
    "        self.ratings_matrix = self.get_ratings_df(self.df)\n",
    "        self.item_similarity_df = self.get_similarity(self.ratings_matrix)\n",
    "\n",
    "    def get_steam_data(self, file_path:str) -> pd.DataFrame:\n",
    "        try:\n",
    "            column_names = ['user_id', 'item_id', 'behaviour', 'hours']\n",
    "            df = pd.read_csv(file_path, header=None, names=column_names, usecols=range(4))\n",
    "            return df\n",
    "        except:\n",
    "            column_names = ['user_id', 'item_id', 'behaviour', 'hours']\n",
    "            df = pd.read_csv('../data/steam-200k.csv', header=None, names=column_names, usecols=range(4))\n",
    "            return df\n",
    "\n",
    "\n",
    "    def get_ratings_df(self, df:pd.DataFrame) -> pd.DataFrame:\n",
    "        df_play = df.query('behaviour == \"play\"')\n",
    "        df_user_total_hours = df_play.groupby(['user_id'])['hours'].sum().reset_index()\n",
    "        df_user_total_hours.rename(columns={'hours': 'total'}, inplace=True)\n",
    "        df_play = df_play.merge(df_user_total_hours, on='user_id',how='left')\n",
    "        df_play = df_play.drop(columns=['behaviour'])\n",
    "        df_play['rating'] = df_play['hours']/df_play['total']\n",
    "        df_play.drop(columns=['hours', 'total'], inplace=True)\n",
    "        \n",
    "        lista_duplicatas = []\n",
    "        for i in df_play['user_id'].unique():  # esta função procura duplicatas de jogos para cada usuário\n",
    "            uid = \"user_id == \" + str(i)\n",
    "            ps = df_play.query(uid).duplicated('item_id')\n",
    "            has_true_values = ps.any()\n",
    "            if has_true_values:\n",
    "                lista_duplicatas.append(i)\n",
    "        \n",
    "        for i in lista_duplicatas:\n",
    "            user_data = df_play[df_play['user_id'] == i]\n",
    "            user_data_no_duplicates = user_data.drop_duplicates(subset='item_id', keep='first')\n",
    "            df_play.loc[user_data.index, :] = user_data_no_duplicates\n",
    "        \n",
    "        df_play = df_play.dropna()\n",
    "        ratings_matrix = df_play.pivot(index='item_id', columns='user_id', values='rating').fillna(0)\n",
    "        return ratings_matrix\n",
    "\n",
    "    def get_similarity(self, ratings_matrix:pd.DataFrame) -> pd.DataFrame:\n",
    "        item_similarity = cosine_similarity(ratings_matrix)\n",
    "        item_similarity_df = pd.DataFrame(item_similarity, index=ratings_matrix.index, columns=ratings_matrix.index)\n",
    "        return item_similarity_df\n",
    "\n",
    "    def recommend_items(self, item_id, num_recommendations=5):\n",
    "        try:\n",
    "            similar_items = self.item_similarity_df[item_id].sort_values(ascending=False)\n",
    "            similar_items = similar_items.drop(item_id)\n",
    "            return similar_items.head(num_recommendations)\n",
    "        except KeyError:\n",
    "            return f'Item {item_id} not found in the dataset.'\n"
   ]
  },
  {
   "cell_type": "code",
   "execution_count": 5,
   "metadata": {},
   "outputs": [],
   "source": [
    "recomender = joblib.load('../models/recommender_system.pkl')\n"
   ]
  },
  {
   "cell_type": "code",
   "execution_count": 6,
   "metadata": {},
   "outputs": [
    {
     "data": {
      "text/plain": [
       "item_id\n",
       "Apotheon Arena                           0.334390\n",
       "Westward                                 0.198133\n",
       "Tradewinds Caravans                      0.198133\n",
       "Westward 3                               0.198133\n",
       "Holy Potatoes! A Weapon Shop?!           0.196315\n",
       "Guild of Dungeoneering                   0.177476\n",
       "Spore Galactic Adventures                0.125333\n",
       "Sid Meier's Pirates!                     0.069071\n",
       "Sid Meier's Civilization Beyond Earth    0.061791\n",
       "Spore Creepy & Cute Parts Pack           0.057032\n",
       "Name: Spore, dtype: float64"
      ]
     },
     "execution_count": 6,
     "metadata": {},
     "output_type": "execute_result"
    }
   ],
   "source": [
    "recomender.recommend_items('Spore',10)"
   ]
  }
 ],
 "metadata": {
  "kernelspec": {
   "display_name": "fast311",
   "language": "python",
   "name": "python3"
  },
  "language_info": {
   "codemirror_mode": {
    "name": "ipython",
    "version": 3
   },
   "file_extension": ".py",
   "mimetype": "text/x-python",
   "name": "python",
   "nbconvert_exporter": "python",
   "pygments_lexer": "ipython3",
   "version": "3.11.9"
  }
 },
 "nbformat": 4,
 "nbformat_minor": 2
}
