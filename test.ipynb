{
 "cells": [
  {
   "cell_type": "code",
   "execution_count": 26,
   "metadata": {},
   "outputs": [],
   "source": [
    "import pandas as pd\n",
    "import numpy as np\n",
    "from sklearn.metrics.pairwise import cosine_similarity\n",
    "import joblib\n",
    "pd.set_option('display.max_colwidth', None)\n",
    "import urllib.parse\n",
    "\n",
    "\n",
    "def get_steam_data(file_path:str) -> pd.DataFrame:\n",
    "    try:\n",
    "        column_names = ['user_id', 'item_id', 'behaviour', 'hours']\n",
    "        df = pd.read_csv(file_path, header=None, names=column_names, usecols=range(4))\n",
    "        return df\n",
    "    except:\n",
    "        column_names = ['user_id', 'item_id', 'behaviour', 'hours']\n",
    "        df = pd.read_csv('../data/steam-200k.csv', header=None, names=column_names, usecols=range(4))\n",
    "        return df\n",
    "def get_ratings_df(df:pd.DataFrame) -> pd.DataFrame:\n",
    "    df_play = df.query('behaviour == \"play\"')\n",
    "    df_user_total_hours = df_play.groupby(['user_id'])['hours'].sum().reset_index()\n",
    "    df_user_total_hours.rename(columns={'hours': 'total'}, inplace=True)\n",
    "    df_play = df_play.merge(df_user_total_hours, on='user_id',how='left')\n",
    "    df_play = df_play.drop(columns=['behaviour'])\n",
    "    df_play['rating'] = df_play['hours']/df_play['total']\n",
    "    df_play.drop(columns=['hours', 'total'], inplace=True)\n",
    "    lista_duplicatas = []\n",
    "    for i in df_play['user_id'].unique():  # esta função procura duplicatas de jogos para cada usuário\n",
    "        uid = \"user_id == \" + str(i)\n",
    "        ps = df_play.query(uid).duplicated('item_id')\n",
    "        has_true_values = ps.any()\n",
    "        if has_true_values:\n",
    "            lista_duplicatas.append(i)\n",
    "    for i in lista_duplicatas:\n",
    "        user_data = df_play[df_play['user_id'] == i]\n",
    "        user_data_no_duplicates = user_data.drop_duplicates(subset='item_id', keep='first')\n",
    "        df_play.loc[user_data.index, :] = user_data_no_duplicates\n",
    "    df_play = df_play.dropna()\n",
    "    ratings_matrix = df_play.pivot(index='item_id', columns='user_id', values='rating').fillna(0)\n",
    "    return ratings_matrix\n",
    "\n",
    "def get_similarity(ratings_matrix:pd.DataFrame) -> pd.DataFrame:\n",
    "    item_similarity = cosine_similarity(ratings_matrix)\n",
    "    item_similarity_df = pd.DataFrame(item_similarity, index=ratings_matrix.index, columns=ratings_matrix.index)\n",
    "    return item_similarity_df\n",
    "\n"
   ]
  },
  {
   "cell_type": "code",
   "execution_count": 15,
   "metadata": {},
   "outputs": [],
   "source": [
    "class RecommenderSystem:\n",
    "    def __init__(self):\n",
    "        self.similarity_matrix = joblib.load('data/item_similarity_df.pkl')\n",
    "        self.game_list = joblib.load('data/game_list.pkl')\n",
    "        \n",
    "    def recommend_items(self, item_id, num_recommendations=10):\n",
    "        try:\n",
    "            similar_items = self.similarity_matrix[item_id].sort_values(ascending=False)\n",
    "            similar_items = similar_items.drop(item_id)\n",
    "            return similar_items.head(num_recommendations)\n",
    "        except KeyError:\n",
    "            return f'Item {item_id} not found in the dataset.'\n",
    "    \n",
    "    def list_games(self):\n",
    "        return self.game_list"
   ]
  },
  {
   "cell_type": "code",
   "execution_count": 11,
   "metadata": {},
   "outputs": [
    {
     "data": {
      "text/plain": [
       "['data/item_similarity_df.pkl']"
      ]
     },
     "execution_count": 11,
     "metadata": {},
     "output_type": "execute_result"
    }
   ],
   "source": [
    "# salvando a matriz de similiaridade\n",
    "file_path = 'data/steam-200k.csv'\n",
    "item_similarity_df = get_similarity(get_ratings_df(get_steam_data(file_path)))\n",
    "joblib.dump(item_similarity_df, 'data/item_similarity_df.pkl')"
   ]
  },
  {
   "cell_type": "code",
   "execution_count": 20,
   "metadata": {},
   "outputs": [
    {
     "data": {
      "text/plain": [
       "['data/game_list.pkl']"
      ]
     },
     "execution_count": 20,
     "metadata": {},
     "output_type": "execute_result"
    }
   ],
   "source": [
    "# obtendo lista de jogos\n",
    "list = get_steam_data(file_path).query('behaviour == \"play\"')['item_id'].unique().tolist()\n",
    "joblib.dump(list, 'data/game_list.pkl')\n"
   ]
  },
  {
   "cell_type": "code",
   "execution_count": 21,
   "metadata": {},
   "outputs": [
    {
     "data": {
      "text/plain": [
       "['models/recommender_system.pkl']"
      ]
     },
     "execution_count": 21,
     "metadata": {},
     "output_type": "execute_result"
    }
   ],
   "source": [
    "# Crie uma instância da classe\n",
    "recommender = RecommenderSystem()\n",
    "joblib.dump(recommender, 'models/recommender_system.pkl')\n"
   ]
  },
  {
   "cell_type": "code",
   "execution_count": 25,
   "metadata": {},
   "outputs": [
    {
     "data": {
      "text/plain": [
       "['Pirates, Vikings, & Knights II',\n",
       " 'Medieval II Total War',\n",
       " \"Assassin's Creed\",\n",
       " 'Worms Revolution',\n",
       " 'Counter-Strike Global Offensive',\n",
       " 'DiggerOnline',\n",
       " 'BLOCKADE 3D',\n",
       " 'Left 4 Dead 2',\n",
       " \"Garry's Mod\",\n",
       " 'The Elder Scrolls V Skyrim']"
      ]
     },
     "execution_count": 25,
     "metadata": {},
     "output_type": "execute_result"
    }
   ],
   "source": [
    "recommendations = recommender.recommend_items('Pre-Civilization Marble Age')\n",
    "\n",
    "recommendations.keys().tolist()\n"
   ]
  },
  {
   "cell_type": "code",
   "execution_count": 29,
   "metadata": {},
   "outputs": [
    {
     "data": {
      "text/plain": [
       "'/recommend?game=Assassin%27s%20Creed'"
      ]
     },
     "execution_count": 29,
     "metadata": {},
     "output_type": "execute_result"
    }
   ],
   "source": [
    "\n",
    "# Encode the recommended game name for URL safety\n",
    "recommended_game_encoded = urllib.parse.quote(\"Assassin's Creed\")\n",
    "\n",
    "# Generate the recommendation URL using the encoded name\n",
    "recommendation_url = f\"/recommend?game={recommended_game_encoded}\"\n",
    "\n",
    "recommendation_url\n"
   ]
  }
 ],
 "metadata": {
  "kernelspec": {
   "display_name": "fast311",
   "language": "python",
   "name": "python3"
  },
  "language_info": {
   "codemirror_mode": {
    "name": "ipython",
    "version": 3
   },
   "file_extension": ".py",
   "mimetype": "text/x-python",
   "name": "python",
   "nbconvert_exporter": "python",
   "pygments_lexer": "ipython3",
   "version": "3.11.9"
  }
 },
 "nbformat": 4,
 "nbformat_minor": 2
}
